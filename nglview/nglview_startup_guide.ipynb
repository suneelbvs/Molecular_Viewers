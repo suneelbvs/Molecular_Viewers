{
 "cells": [
  {
   "cell_type": "markdown",
   "metadata": {},
   "source": [
    "### nglview\n",
    "\n",
    "** An IPython/Jupyter widget to interactively view molecular structures and trajectories. Utilizes the embeddable NGL Viewer for rendering.\n",
    "** Support for showing data from the file-system: \"RCSB PDB, simpletraj and from objects of analysis libraries mdtraj, pytraj, mdanalysis, ParmEd, rdkit, ase, HTMD, biopython, cctbx, pyrosetta, schrodinger's Structure\""
   ]
  },
  {
   "cell_type": "code",
   "execution_count": 78,
   "metadata": {},
   "outputs": [],
   "source": [
    "#### Installation:\n",
    "#To install this package with conda run one of the following command in conda:\n",
    "#conda install -c conda-forge nglview\n",
    "\n",
    "#To use in Jupyter Lab you need to install appropriate extension:\n",
    "\n",
    "#jupyter labextension install nglview-js-widgets\n",
    "\n",
    "#jupyter labextension enable nglview-js-widgets"
   ]
  },
  {
   "cell_type": "code",
   "execution_count": 4,
   "metadata": {},
   "outputs": [
    {
     "data": {
      "application/vnd.jupyter.widget-view+json": {
       "model_id": "b6bf35d3d8a745fd8c037bb4cbcb7d1a",
       "version_major": 2,
       "version_minor": 0
      },
      "text/plain": [
       "NGLWidget()"
      ]
     },
     "metadata": {},
     "output_type": "display_data"
    }
   ],
   "source": [
    "import nglview\n",
    "struc = nglview.PdbIdStructure(\"1fgi\")     # load file from RCSB PDB\n",
    "view = nglview.NGLWidget(struc)            # create widget\n",
    "view"
   ]
  },
  {
   "cell_type": "code",
   "execution_count": 5,
   "metadata": {},
   "outputs": [
    {
     "data": {
      "application/vnd.jupyter.widget-view+json": {
       "model_id": "b6bf35d3d8a745fd8c037bb4cbcb7d1a",
       "version_major": 2,
       "version_minor": 0
      },
      "text/plain": [
       "NGLWidget(n_components=1)"
      ]
     },
     "metadata": {},
     "output_type": "display_data"
    }
   ],
   "source": [
    "view.add_surface(selection=\"protein\", opacity=0.3) # add surface for protein\n",
    "view"
   ]
  },
  {
   "cell_type": "code",
   "execution_count": 3,
   "metadata": {},
   "outputs": [
    {
     "data": {
      "application/vnd.jupyter.widget-view+json": {
       "model_id": "c88b7f52d929449eb4de00076fa2b6bf",
       "version_major": 2,
       "version_minor": 0
      },
      "text/plain": [
       "ThemeManager()"
      ]
     },
     "metadata": {},
     "output_type": "display_data"
    },
    {
     "data": {
      "application/vnd.jupyter.widget-view+json": {
       "model_id": "0bfa0f6b1b854388b74c9e7ad456be3f",
       "version_major": 2,
       "version_minor": 0
      },
      "text/plain": [
       "NGLWidget(gui_style='ngl', n_components=1)"
      ]
     },
     "metadata": {},
     "output_type": "display_data"
    }
   ],
   "source": [
    "view.add_contact()\n",
    "view.gui_style ='ngl'                     # enable NGL GUI\n",
    "view                                       # display widget"
   ]
  },
  {
   "cell_type": "code",
   "execution_count": 6,
   "metadata": {},
   "outputs": [
    {
     "data": {
      "application/vnd.jupyter.widget-view+json": {
       "model_id": "e4cd3ff790454627902bd09e03fbc4db",
       "version_major": 2,
       "version_minor": 0
      },
      "text/plain": [
       "NGLWidget()"
      ]
     },
     "metadata": {},
     "output_type": "display_data"
    }
   ],
   "source": [
    "view1 = nglview.show_file('1fgi.pdb')         # access PDB file from local directory\n",
    "view1"
   ]
  },
  {
   "cell_type": "markdown",
   "metadata": {},
   "source": [
    "nglview also support data analysis of MD simulations\n",
    "\n",
    "pytraj or mdtraj interesting libraries to analyze the trajectories.\n",
    "\n",
    "Pytraj supports linux, osx, not windows; where as, mdtraj supports windows. Here i explored mdtraj for my analysis \n",
    "\n",
    "Pytraj:\n",
    "To install this package with conda run:\n",
    "conda install -c ambermd pytraj\n",
    "\n",
    "Mdtraj:\n",
    "To install this package with conda run one of the following:\n",
    "conda install -c conda-forge mdtraj"
   ]
  },
  {
   "cell_type": "code",
   "execution_count": 7,
   "metadata": {},
   "outputs": [
    {
     "data": {
      "application/vnd.jupyter.widget-view+json": {
       "model_id": "e3518d9066b64bafa2bec445d1f90762",
       "version_major": 2,
       "version_minor": 0
      },
      "text/plain": [
       "NGLWidget(max_frame=39)"
      ]
     },
     "metadata": {},
     "output_type": "display_data"
    }
   ],
   "source": [
    "import mdtraj as md                                             # load mdtraj libraries\n",
    "traj = md.load('sim.nc', top='sim.prmtop')                     # load MD simulations files     \n",
    "view2 = nglview.show_mdtraj(traj)                              # nglview to visualize trajectories\n",
    "view2"
   ]
  },
  {
   "cell_type": "code",
   "execution_count": 8,
   "metadata": {},
   "outputs": [],
   "source": [
    "view2.clear()\n",
    "view2.add_cartoon('protein', color_scheme='residueindex')    # add cartoon for protein and colour by residue\n",
    "view2.add_ball_and_stick('not protein', opacity=0.5)         # ball & stick model for non-protein atoms with transparency"
   ]
  },
  {
   "cell_type": "code",
   "execution_count": 9,
   "metadata": {},
   "outputs": [
    {
     "data": {
      "application/vnd.jupyter.widget-view+json": {
       "model_id": "e3518d9066b64bafa2bec445d1f90762",
       "version_major": 2,
       "version_minor": 0
      },
      "text/plain": [
       "NGLWidget(frame=20, max_frame=39, n_components=1)"
      ]
     },
     "metadata": {},
     "output_type": "display_data"
    }
   ],
   "source": [
    "view2.frame = 20             # set the frame number to visualize\n",
    "view2"
   ]
  },
  {
   "cell_type": "code",
   "execution_count": 10,
   "metadata": {},
   "outputs": [
    {
     "data": {
      "application/vnd.jupyter.widget-view+json": {
       "model_id": "8838db99c366425b8e505522c30799c7",
       "version_major": 2,
       "version_minor": 0
      },
      "text/plain": [
       "IntProgress(value=0, description='Rendering ...', max=39)"
      ]
     },
     "metadata": {},
     "output_type": "display_data"
    }
   ],
   "source": [
    "from nglview.contrib.movie import MovieMaker                # Interesting feature in developing; it crashed for me\n",
    "movie = MovieMaker(view2, output='my.gif')\n",
    "movie.make()"
   ]
  },
  {
   "cell_type": "code",
   "execution_count": 11,
   "metadata": {},
   "outputs": [
    {
     "data": {
      "text/plain": [
       "<bound method NGLWidget._set_sync_camera of NGLWidget(frame=20, max_frame=39, n_components=1)>"
      ]
     },
     "execution_count": 11,
     "metadata": {},
     "output_type": "execute_result"
    }
   ],
   "source": [
    "## Save and restore orientation\n",
    "## To reproduce exact figures it is helpful to save the orientation. This can be done by activating the camera sync and get/set the orientation\n",
    "view2._set_sync_camera"
   ]
  },
  {
   "cell_type": "code",
   "execution_count": 13,
   "metadata": {},
   "outputs": [
    {
     "name": "stderr",
     "output_type": "stream",
     "text": [
      "WARNING:root:DEPRECATED: Please use 'center' method\n"
     ]
    }
   ],
   "source": [
    "#Setting image size\n",
    "#This can be used to get exact sized figures everytime\n",
    "\n",
    "view2._remote_call(\"setSize\", target=\"Widget\", args=[\"500px\", \"500px\"])\n",
    "# Center and zoom molecule\n",
    "view2.center_view()"
   ]
  },
  {
   "cell_type": "code",
   "execution_count": 14,
   "metadata": {},
   "outputs": [
    {
     "data": {
      "application/vnd.jupyter.widget-view+json": {
       "model_id": "68876770eecb43aeb23bbb9d62a2f3c1",
       "version_major": 2,
       "version_minor": 0
      },
      "text/plain": [
       "Image(value=b'', width='99%')"
      ]
     },
     "metadata": {},
     "output_type": "display_data"
    }
   ],
   "source": [
    "#Render snapshot and display it in this notebook\n",
    "view2.render_image()"
   ]
  },
  {
   "cell_type": "code",
   "execution_count": 15,
   "metadata": {},
   "outputs": [],
   "source": [
    "# Download image\n",
    "view2.download_image()              #Downloads the image to local drive"
   ]
  },
  {
   "cell_type": "code",
   "execution_count": null,
   "metadata": {},
   "outputs": [],
   "source": []
  }
 ],
 "metadata": {
  "kernelspec": {
   "display_name": "Python 3",
   "language": "python",
   "name": "python3"
  },
  "language_info": {
   "codemirror_mode": {
    "name": "ipython",
    "version": 3
   },
   "file_extension": ".py",
   "mimetype": "text/x-python",
   "name": "python",
   "nbconvert_exporter": "python",
   "pygments_lexer": "ipython3",
   "version": "3.7.3"
  }
 },
 "nbformat": 4,
 "nbformat_minor": 2
}
